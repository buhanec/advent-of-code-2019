{
 "cells": [
  {
   "cell_type": "code",
   "execution_count": null,
   "metadata": {},
   "outputs": [],
   "source": [
    "import itertools\n",
    "from collections import defaultdict\n",
    "from operator import *\n",
    "from functools import reduce, lru_cache\n",
    "import copy"
   ]
  },
  {
   "cell_type": "code",
   "execution_count": null,
   "metadata": {},
   "outputs": [],
   "source": [
    "import aoc"
   ]
  },
  {
   "cell_type": "code",
   "execution_count": null,
   "metadata": {},
   "outputs": [],
   "source": [
    "S = aoc.Session(2019, 2)"
   ]
  },
  {
   "cell_type": "code",
   "execution_count": null,
   "metadata": {},
   "outputs": [],
   "source": [
    "i = S.problem()"
   ]
  },
  {
   "cell_type": "code",
   "execution_count": null,
   "metadata": {},
   "outputs": [],
   "source": [
    "print(i)"
   ]
  },
  {
   "cell_type": "markdown",
   "metadata": {},
   "source": [
    "# Useful"
   ]
  },
  {
   "cell_type": "code",
   "execution_count": null,
   "metadata": {},
   "outputs": [],
   "source": [
    "class Solution(BaseException):\n",
    "    pass\n",
    "\n",
    "class Error(BaseException):\n",
    "    pass"
   ]
  },
  {
   "cell_type": "code",
   "execution_count": null,
   "metadata": {},
   "outputs": [],
   "source": [
    "storage = defaultdict(lambda: 0)"
   ]
  },
  {
   "cell_type": "markdown",
   "metadata": {},
   "source": [
    "# 1D"
   ]
  },
  {
   "cell_type": "code",
   "execution_count": null,
   "metadata": {},
   "outputs": [],
   "source": [
    "o = 0\n",
    "t = tuple(map(int, i.strip().split(',')))\n",
    "m = list(t)\n",
    "for v in m:\n",
    "    v = int(v)\n",
    "    o += v"
   ]
  },
  {
   "cell_type": "markdown",
   "metadata": {},
   "source": [
    "# 2D"
   ]
  },
  {
   "cell_type": "code",
   "execution_count": null,
   "metadata": {},
   "outputs": [],
   "source": [
    "o = 0\n",
    "m = []\n",
    "for r in i.strip().split('\\n'):\n",
    "    _ = []\n",
    "    m.append(_r)\n",
    "    for c in r.strip().split(' '):\n",
    "        _.append(int(c))\n",
    "t = tuple(tuple(_) for _ in m)"
   ]
  },
  {
   "cell_type": "markdown",
   "metadata": {},
   "source": [
    "# Opcode Computer"
   ]
  },
  {
   "cell_type": "code",
   "execution_count": null,
   "metadata": {},
   "outputs": [],
   "source": [
    "s = copy.deepcopy(store)\n",
    "i = 0\n",
    "while i < len(s):\n",
    "    op = s[i]\n",
    "    if op == 1:\n",
    "        s[s[i + 3]] = s[s[i + 1]] + s[s[i + 2]]\n",
    "        i += 4\n",
    "    elif op == 2:\n",
    "        s[s[i + 3]] = s[s[i + 1]] * s[s[i + 2]]\n",
    "        i += 4\n",
    "    elif op == 99:\n",
    "        break\n",
    "    else:\n",
    "        raise Error(i, op)\n",
    "return s[0]"
   ]
  },
  {
   "cell_type": "code",
   "execution_count": 26,
   "metadata": {},
   "outputs": [],
   "source": [
    "def run(store):\n",
    "    s = copy.deepcopy(store)\n",
    "    i = 0\n",
    "    while i < len(s):\n",
    "        op = s[i]\n",
    "        p1 = s[i + 1]\n",
    "        p2 = s[i + 2]\n",
    "        t = s[i + 3]\n",
    "        \n",
    "        def rt(): return s[t]\n",
    "        def st(v): s[t] = v\n",
    "        def r1(): return s[p1]\n",
    "        def s1(v): s[p1] = v\n",
    "        def r2(): return s[p2]\n",
    "        def s2(v): s[p2] = v\n",
    "        \n",
    "        if op == 1:\n",
    "            st(r1() + r2())\n",
    "            i += 4\n",
    "        elif op == 2:\n",
    "            st(r1() * r2())\n",
    "            i += 4\n",
    "        elif op == 99:\n",
    "            break\n",
    "        else:\n",
    "            raise Error(i, op)\n",
    "    return s[0]"
   ]
  },
  {
   "cell_type": "code",
   "execution_count": null,
   "metadata": {},
   "outputs": [],
   "source": []
  }
 ],
 "metadata": {
  "kernelspec": {
   "display_name": "Python 3",
   "language": "python",
   "name": "python3"
  },
  "language_info": {
   "codemirror_mode": {
    "name": "ipython",
    "version": 3
   },
   "file_extension": ".py",
   "mimetype": "text/x-python",
   "name": "python",
   "nbconvert_exporter": "python",
   "pygments_lexer": "ipython3",
   "version": "3.7.3"
  }
 },
 "nbformat": 4,
 "nbformat_minor": 4
}
